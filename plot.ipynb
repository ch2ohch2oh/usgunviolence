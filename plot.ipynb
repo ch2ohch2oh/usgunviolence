{
 "cells": [
  {
   "cell_type": "code",
   "execution_count": null,
   "metadata": {},
   "outputs": [],
   "source": [
    "#!/usr/bin/env python3\n",
    "\n",
    "import matplotlib.pyplot as plt\n",
    "import pandas as pd\n",
    "import pdb\n",
    "import datetime\n",
    "import time\n",
    "\n",
    "plt.rc('font', size=14)\n",
    "df = pd.read_csv('data/merged.csv')\n",
    "df['date'] = pd.to_datetime(df['date'])\n",
    "df.head()"
   ]
  },
  {
   "cell_type": "code",
   "execution_count": null,
   "metadata": {},
   "outputs": [],
   "source": [
    "county_count = df[['state', 'county', 'death', 'injured']].groupby(by=['state', 'county']).sum()\n",
    "county_count['total'] = county_count['death'] + county_count['injured']\n",
    "county_count.sort_values(by='total', ascending=False, inplace=True)\n",
    "county_count.head()"
   ]
  },
  {
   "cell_type": "code",
   "execution_count": null,
   "metadata": {},
   "outputs": [],
   "source": [
    "def plot_victim_groupby(df, days=3, limit=20, groupby=['state', 'county']):\n",
    "    df = df[df.date > datetime.datetime.now() - pd.to_timedelta(f'{days}day')]\n",
    "    count = df[['state', 'county', 'death', 'injured']].groupby(by=groupby).sum()\n",
    "    count['total'] = count['death'] + count['injured']\n",
    "    count.sort_values(by='total', ascending=False, inplace=True)\n",
    "    if len(groupby) == 2:\n",
    "        labels = [county + ', ' + state for state, county in count[:limit].index]\n",
    "    else:\n",
    "        labels = count[:limit].index\n",
    "    # print(labels)\n",
    "    \n",
    "    fig = plt.figure(figsize=(8, 8))\n",
    "    plt.barh(labels, count[:limit]['death'], label='death', color='black')\n",
    "    plt.barh(labels, count[:limit]['injured'], left=count[:limit]['death'], label='injured', color='gray')\n",
    "    plt.legend()\n",
    "    plt.xlabel('Count')\n",
    "    plt.ylabel('Location')\n",
    "    plt.title(f'US gun violence victim count within the past {days} days')\n",
    "    return fig\n",
    "\n",
    "fig = plot_victim_groupby(df)\n",
    "fig.savefig('docs/imgs/victim_city_3days.png')\n"
   ]
  },
  {
   "cell_type": "code",
   "execution_count": null,
   "metadata": {},
   "outputs": [],
   "source": [
    "fig = plot_victim_groupby(df, groupby=['state'])\n",
    "fig.savefig('docs/imgs/victim_state_3days.png')\n"
   ]
  },
  {
   "cell_type": "code",
   "execution_count": null,
   "metadata": {},
   "outputs": [],
   "source": [
    "date_count = df[['date', 'injured', 'death']].groupby('date').sum()\n",
    "date_count['total'] = date_count['injured'] + date_count['death']\n",
    "date_count"
   ]
  },
  {
   "cell_type": "code",
   "execution_count": null,
   "metadata": {},
   "outputs": [],
   "source": [
    "def plot_victim_time(df, days=90):\n",
    "    df = df[df.date > datetime.datetime.now() - pd.to_timedelta(f'{days}day')]\n",
    "    date_count = df[['date', 'injured', 'death']].groupby('date').sum()\n",
    "    date_count['total'] = date_count['injured'] + date_count['death']\n",
    "    fig = plt.figure(figsize=(8, 6))\n",
    "    plt.bar(date_count.index, date_count['death'], label='death', color='black')\n",
    "    plt.bar(date_count.index, date_count['injured'], bottom=date_count['death'], color='gray', label='injured')\n",
    "    xlabels = [date.strftime('%Y-%m-%d') for date in date_count.index]\n",
    "    plt.xticks(date_count.index, xlabels , rotation=90)\n",
    "    plt.xlabel('Date')\n",
    "    plt.ylabel('Count')\n",
    "    plt.title(f\"Gun violence victim count within {days} days\")\n",
    "    plt.legend()\n",
    "    return fig\n",
    "\n",
    "fig = plot_victim_time(df, days=90)\n",
    "fig.savefig('docs/imgs/victim_count_90days.png')"
   ]
  }
 ],
 "metadata": {
  "interpreter": {
   "hash": "31f2aee4e71d21fbe5cf8b01ff0e069b9275f58929596ceb00d14d90e3e16cd6"
  },
  "kernelspec": {
   "display_name": "Python 3.8.10 64-bit",
   "language": "python",
   "name": "python3"
  },
  "language_info": {
   "codemirror_mode": {
    "name": "ipython",
    "version": 3
   },
   "file_extension": ".py",
   "mimetype": "text/x-python",
   "name": "python",
   "nbconvert_exporter": "python",
   "pygments_lexer": "ipython3",
   "version": "3.8.10"
  },
  "orig_nbformat": 4
 },
 "nbformat": 4,
 "nbformat_minor": 2
}
